{
 "cells": [
  {
   "cell_type": "code",
   "execution_count": null,
   "id": "6da14b00",
   "metadata": {},
   "outputs": [],
   "source": [
    "import torch\n",
    "\n",
    "model = torch.hub.load(\n",
    "    repo_or_dir='facebookresearch/dinov3',\n",
    "    model='dinov3_convnext_small',\n",
    "    weights='/home/spactureai/xalil/dinov3/models/dinov3_convnext_small_pretrain_lvd1689m-296db49d.pth',\n",
    ")\n",
    "\n",
    "# where MODEL_NAME can be one of:\n",
    "# - dinov3_vits16\n",
    "# - dinov3_vits16plus\n",
    "# - dinov3_vitb16\n",
    "# - dinov3_vitl16\n",
    "# - dinov3_vith16plus\n",
    "# - dinov3_vit7b16\n",
    "# - dinov3_convnext_tiny\n",
    "# - dinov3_convnext_small\n",
    "# - dinov3_convnext_base\n",
    "# - dinov3_convnext_large\n",
    "\n"
   ]
  },
  {
   "cell_type": "code",
   "execution_count": null,
   "id": "9eb5844f",
   "metadata": {},
   "outputs": [],
   "source": [
    "#import torch\n",
    "\n",
    "from dinov3.hub.dinotxt import dinov3_vitl16_dinotxt_tet1280d20h24l\n",
    "model, tokenizer = dinov3_vitl16_dinotxt_tet1280d20h24l()\n",
    "model = model.to(device=\"cuda\")"
   ]
  },
  {
   "cell_type": "markdown",
   "id": "13eb970d",
   "metadata": {},
   "source": []
  },
  {
   "cell_type": "code",
   "execution_count": null,
   "id": "a39c169b",
   "metadata": {},
   "outputs": [],
   "source": [
    "import urllib\n",
    "from PIL import Image\n",
    "\n",
    "def load_image_from_url(url: str) -> Image:\n",
    "    with urllib.request.urlopen(url) as f:\n",
    "        return Image.open(f).convert(\"RGB\")\n",
    "\n",
    "\n",
    "EXAMPLE_IMAGE_URL = \"https://dl.fbaipublicfiles.com/dinov2/images/example.jpg\"\n",
    "img_pil = load_image_from_url(EXAMPLE_IMAGE_URL)\n",
    "display(img_pil)"
   ]
  },
  {
   "cell_type": "code",
   "execution_count": null,
   "id": "d242fa3d",
   "metadata": {},
   "outputs": [],
   "source": [
    "import torch\n",
    "from dinov3.data.transforms import make_classification_eval_transform\n",
    "\n",
    "image_preprocess = make_classification_eval_transform()\n",
    "image_tensor = torch.stack([image_preprocess(img_pil)], dim=0).cuda()\n",
    "texts = [\"photo of dogs\", \"photo of a chair\", \"photo of a bowl\", \"photo of a tupperware\"]\n",
    "class_names = [\"dog\", \"chair\", \"bowl\", \"tupperware\"]\n",
    "tokenized_texts_tensor = tokenizer.tokenize(texts).cuda()\n",
    "model = model.cuda()\n",
    "with torch.autocast('cuda', dtype=torch.float):\n",
    "    with torch.no_grad():\n",
    "        image_features = model.encode_image(image_tensor)\n",
    "        text_features = model.encode_text(tokenized_texts_tensor)\n",
    "image_features /= image_features.norm(dim=-1, keepdim=True)\n",
    "text_features /= text_features.norm(dim=-1, keepdim=True)\n",
    "similarity = (\n",
    "    text_features.cpu().float().numpy() @ image_features.cpu().float().numpy().T\n",
    ")\n",
    "print(similarity) "
   ]
  },
  {
   "cell_type": "code",
   "execution_count": null,
   "id": "1da35ae0",
   "metadata": {},
   "outputs": [],
   "source": [
    "from torchvision.datasets import ImageFolder\n",
    "from dinov3.data.transforms import make_classification_eval_transform\n",
    "\n",
    "image_preprocess = make_classification_eval_transform(resize_size=512, crop_size=512)\n",
    "# Please update the following directory to the root of ImageNet1k val dataset.\n",
    "imagenet_val_root_dir = \"/home/spactureai/xalil/dinov3/imagenet\"\n",
    "val_dataset = ImageFolder(imagenet_val_root_dir, image_preprocess)\n",
    "model = model.eval().cuda()"
   ]
  },
  {
   "cell_type": "code",
   "execution_count": null,
   "id": "cbf13260",
   "metadata": {},
   "outputs": [],
   "source": [
    "import os\n",
    "import json\n",
    "\n",
    "\n",
    "def get_list(path):\n",
    "    return os.listdir(path)\n",
    "\n",
    "\n",
    "def rename_directory(root_path, directory, targets):\n",
    "    source = os.path.join(root_path, directory)\n",
    "    target = os.path.join(root_path, targets[directory])\n",
    "    os.rename(source, target)\n",
    "\n",
    "\n",
    "def remove_files(root_path, directory, n_remained):\n",
    "    files = get_list(os.path.join(root_path, directory))\n",
    "    files = files[n_remained:]\n",
    "    for file_name in files:\n",
    "        os.remove(os.path.join(root_path, directory, file_name))\n",
    "\n",
    "\n",
    "# Run the program\n",
    "root_path = '/home/spactureai/xalil/dinov3/imagenet'\n",
    "with open('./imagenet_class_index.json') as f:\n",
    "    json_data = json.load(f)\n",
    "targets = {}\n",
    "for key in json_data.keys():\n",
    "    targets[json_data[key][0]] = key\n",
    "\n",
    "directories = get_list(root_path)\n",
    "for directory in directories:\n",
    "    remove_files(root_path, directory, 5)\n",
    "for directory in directories:\n",
    "    rename_directory(root_path, directory, targets)"
   ]
  },
  {
   "cell_type": "code",
   "execution_count": null,
   "id": "a1ea467a",
   "metadata": {},
   "outputs": [],
   "source": []
  },
  {
   "cell_type": "code",
   "execution_count": 8,
   "id": "850351f2",
   "metadata": {},
   "outputs": [],
   "source": [
    "with torch.autocast('cuda', dtype=torch.float):\n",
    "    with torch.no_grad():\n",
    "        image_class_tokens, image_patch_tokens, backbone_patch_tokens = model.encode_image_with_patch_tokens(image_tensor)\n",
    "        text_features_aligned_to_patch = model.encode_text(tokenized_texts_tensor)[:, 1024:] # Part of text features that is aligned to patch fea"
   ]
  },
  {
   "cell_type": "code",
   "execution_count": 9,
   "id": "915c2e97",
   "metadata": {},
   "outputs": [],
   "source": [
    "import torch.nn.functional as F\n",
    "\n",
    "B, P, D = image_patch_tokens.shape\n",
    "H = W = int(P**0.5) \n",
    "x = image_patch_tokens.movedim(2, 1).unflatten(2, (H, W)).float()  # [B, D, H, W]\n",
    "x = F.interpolate(x, size=(480, 640), mode=\"bicubic\", align_corners=False)\n",
    "x = F.normalize(x, p=2, dim=1)\n",
    "y = F.normalize(text_features_aligned_to_patch.float(), p=2, dim=1)\n",
    "per_patch_similarity_to_text = torch.einsum(\"bdhw,cd->bchw\", x, y)\n",
    "pred_idx = per_patch_similarity_to_text.argmax(1).squeeze(0)"
   ]
  },
  {
   "cell_type": "code",
   "execution_count": null,
   "id": "8b41dae9",
   "metadata": {},
   "outputs": [],
   "source": []
  }
 ],
 "metadata": {
  "kernelspec": {
   "display_name": "Python 3",
   "language": "python",
   "name": "python3"
  },
  "language_info": {
   "codemirror_mode": {
    "name": "ipython",
    "version": 3
   },
   "file_extension": ".py",
   "mimetype": "text/x-python",
   "name": "python",
   "nbconvert_exporter": "python",
   "pygments_lexer": "ipython3",
   "version": "3.10.18"
  }
 },
 "nbformat": 4,
 "nbformat_minor": 5
}
